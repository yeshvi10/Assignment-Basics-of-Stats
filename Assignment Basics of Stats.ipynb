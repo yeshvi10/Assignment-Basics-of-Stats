{
 "cells": [
  {
   "cell_type": "markdown",
   "id": "e4e4a29a",
   "metadata": {},
   "source": [
    "## Question 1st:-Explain the different types of data (qualitative and quantitative) and provide examples of each. Discuss nominal, ordinal, interval, and ratio scales."
   ]
  },
  {
   "cell_type": "code",
   "execution_count": 2,
   "id": "58a92b56",
   "metadata": {},
   "outputs": [],
   "source": [
    "# Types of Data\n",
    "\n",
    "# Qualitative Data (Categorical Data): This type of data represents categories or groups. It is descriptive and does not involve numerical values. \n",
    "# 1. Qualitative data can be divided into two subcategories:\n",
    "               # 1. Nominal Data: Data where categories are just labels without any order or ranking.\n",
    "                  # Examples: Colors of cars (red, blue, green), types of fruit (apple, banana, orange), or gender (male, female).\n",
    "        \n",
    "              # 2. Ordinal Data: Data with categories that can be ordered or ranked, but the intervals between ranks are not necessarily equal.\n",
    "                 # Examples: Education levels (high school, bachelor's, master's), customer satisfaction ratings (satisfied, neutral, dissatisfied).\n",
    "                \n",
    "# 2. Quantitative Data (Numerical Data): This data represents numbers and can be measured. Quantitative data can be divided into two subcategories:\n",
    "\n",
    "              # 1.Interval Data: Numeric data where the intervals between values are equal, but there is no true zero point (meaning \"zero\" does not indicate the absence of the quantity).\n",
    "                # Examples: Temperature in Celsius or Fahrenheit, IQ scores.\n",
    "        \n",
    "              # 2.Ratio Data: Numeric data where intervals are equal, and there is a meaningful zero point (which indicates the absence of the quantity).\n",
    "                # Examples: Weight, height, age, income, temperature in Kelvin.\n",
    "\n",
    "                \n",
    "# Nominal: Categorizes data without a meaningful order (e.g., colors, names, or labels).\n",
    "# Ordinal: Categorizes data with a meaningful order but unequal intervals (e.g., rankings, education levels).\n",
    "# Interval: Numeric data with equal intervals but no true zero (e.g., temperature in Celsius or time of day).\n",
    "# Ratio: Numeric data with equal intervals and a meaningful zero (e.g., weight, height, time duration)."
   ]
  },
  {
   "cell_type": "markdown",
   "id": "ab8ba68a",
   "metadata": {},
   "source": [
    "## Question 2nd:- What are the measures of central tendency, and when should you use each? Discuss the mean, median, and mode with examples and situations where each is appropriate."
   ]
  },
  {
   "cell_type": "code",
   "execution_count": 3,
   "id": "7722b2f0",
   "metadata": {},
   "outputs": [],
   "source": [
    "# Measures of Central Tendency:-Measures of central tendency are statistical tools used to describe the center or typical value of a dataset. The three main measures are the mean, median, and mode.\n",
    "\n",
    "# 1. Mean (Arithmetic Average): The mean is the sum of all the values in a dataset divided by the number of values. It gives the average value.\n",
    "                \n",
    "            # Formula: Mean =∑𝑥/n\n",
    " \n",
    "# where x represents each value in the dataset, and 𝑛 is the number of values.\n",
    " # Example: In the dataset {2, 4, 6, 8}, the mean is:\n",
    "           # mean=(2+4+6+8)/4=5\n",
    "\n",
    "# When to use: Use the mean when:\n",
    "       # The data is symmetrically distributed (i.e., not heavily skewed).\n",
    "       # You want to consider every value in the dataset.\n",
    "\n",
    "# 2. Median: The median is the middle value when a dataset is ordered from least to greatest. If there is an even number of values, the median is the average of the two middle numbers.\n",
    "       # Example: In the dataset {3, 5, 7, 9, 11}, the median is 7. In an even-sized dataset like {3, 5, 7, 9}, the median is the average of 5 and 7, which is 6.\n",
    "# When to use: Use the median when:\n",
    "       # The data is skewed or contains outliers. The median is resistant to extreme values, making it a better measure of central tendency in these situations.\n",
    "       # Example situation: For income data {30,000, 35,000, 40,000, 1,000,000}, the median (35,000) better represents the typical income compared to the mean, which is skewed by the high outlier.\n",
    "        \n",
    "# 3. Mode: The mode is the value that appears most frequently in a dataset. There can be more than one mode if multiple values have the highest frequency.\n",
    "       # Example: In the dataset {1, 2, 2, 3, 4}, the mode is 2 because it appears twice, while the other values appear only once.\n",
    "# When to use: Use the mode when:\n",
    "        # You are dealing with categorical data where you want to know the most common category.\n",
    "        # There are repeating values, and you want to highlight the most frequent occurrence.\n",
    "# Example situation: In a survey where people are asked their favorite color, the mode would represent the most chosen color.\n"
   ]
  },
  {
   "cell_type": "markdown",
   "id": "0a6d34f5",
   "metadata": {},
   "source": [
    "## Question 3rd:- Explain the concept of dispersion. How do variance and standard deviation measure the spread of data?"
   ]
  },
  {
   "cell_type": "code",
   "execution_count": 5,
   "id": "eef0b035",
   "metadata": {},
   "outputs": [],
   "source": [
    "# Concept of Dispersion\n",
    "\n",
    "     # Dispersion (or variability) refers to the spread or distribution of data points in a dataset. \n",
    "     # It tells us how much the values in the dataset differ from each other or from the central value (mean or median). \n",
    "     # Dispersion is important because two datasets can have the same central tendency (mean, median, or mode) but vastly different distributions.\n",
    "    \n",
    "# Common Measures of Dispersion:\n",
    "\n",
    "     # Range: The difference between the maximum and minimum values.\n",
    "     # Variance: A measure of how much the data points deviate from the mean.\n",
    "     # Standard Deviation: The square root of the variance, representing the average distance from the mean in the original units of the data.\n",
    "    \n",
    "# Variance:- Variance measures the average squared differences between each data point and the mean. It quantifies how spread out the data points are in relation to the mean.\n",
    "   # Formula:\n",
    "             # Variance(𝜎2)=∑(𝑥𝑖−𝜇)2/𝑛\n",
    "\n",
    "   # Where: 𝑥i=is each data point.\n",
    "           # 𝜇 = is the mean of the dataset.\n",
    "           # n is the number of data points.\n",
    "# Example: For the dataset {2, 4, 4, 4, 5, 5, 7, 9}, the mean is 5. The variance is calculated as:\n",
    "       # 𝜎2=(2−5)2+(4-5)2+(4-5)2+(4-5)2+(5-5)2+(5-5)2+(7-5)2+(9-5)2=(9+1+1+1+0+0+4+16)/8=32/8=4\n",
    "    \n",
    "\n",
    "# Interpretation: A variance of 4 means that the data points, on average, are 4 units squared away from the mean. Since variance is in squared units, it’s often less intuitive to interpret than standard deviation.\n",
    "\n",
    "# Standard Deviation:- Standard deviation is the square root of the variance and is expressed in the same units as the original data. It provides a more intuitive measure of dispersion, indicating the average distance between data points and the mean.\n",
    "            # Formula:\n",
    "            # Standard Deviation(𝜎)=sqrt(Variance)=sqrt(∑(xi−μ)2/n\n",
    " \n",
    "# Example: Using the variance from the previous example (4), the standard deviation is:\n",
    "           # 𝜎 =sqrt(4)=2\n",
    "\n",
    "# Interpretation: A standard deviation of 2 means that, on average, the data points are 2 units away from the mean."
   ]
  },
  {
   "cell_type": "markdown",
   "id": "10562de2",
   "metadata": {},
   "source": [
    "## Question 4th:- What is a box plot, and what can it tell you about the distribution of data?"
   ]
  },
  {
   "cell_type": "code",
   "execution_count": 6,
   "id": "4e26b1c8",
   "metadata": {},
   "outputs": [],
   "source": [
    "# Box Plot :- A box plot (or box-and-whisker plot) visually summarizes the distribution of a dataset using five key statistics: minimum, first quartile (Q1), median (Q2), third quartile (Q3), and maximum. \n",
    "# It shows:\n",
    "\n",
    "# Central tendency: The median (Q2) line inside the box indicates the middle value.\n",
    "\n",
    "# Spread: The size of the box (IQR) and length of whiskers indicate data variability.\n",
    "\n",
    "# Skewness: Asymmetry in the box or whiskers shows if data is skewed.\n",
    "\n",
    "# Outliers: Points outside the whiskers highlight extreme values."
   ]
  },
  {
   "cell_type": "markdown",
   "id": "ccde05b9",
   "metadata": {},
   "source": [
    "## Question 5th:- . Discuss the role of random sampling in making inferences about populations"
   ]
  },
  {
   "cell_type": "code",
   "execution_count": 8,
   "id": "f7ee2d20",
   "metadata": {},
   "outputs": [],
   "source": [
    "# Random sampling:- Random sampling is a method used to select a subset of individuals from a population where every individual has an equal chance of being chosen. \n",
    "  # It plays a crucial role in making inferences about populations because:\n",
    "\n",
    "              # It reduces bias, ensuring that the sample is representative of the population.\n",
    "              # It allows us to use probability to generalize findings from the sample to the entire population.\n",
    "              # It supports statistical analysis, such as estimating population parameters (mean, proportion) and calculating margins of error."
   ]
  },
  {
   "cell_type": "markdown",
   "id": "6466b64f",
   "metadata": {},
   "source": [
    "## Question 6th:-. Explain the concept of skewness and its types. How does skewness affect the interpretation of data?"
   ]
  },
  {
   "cell_type": "code",
   "execution_count": 9,
   "id": "b65d0bec",
   "metadata": {},
   "outputs": [],
   "source": [
    "# Skewness measures the asymmetry of a data distribution:\n",
    "\n",
    "               # Positive skew (right-skewed): The tail on the right side is longer, and most data points are concentrated on the left. The mean is greater than the median.\n",
    "\n",
    "               # Negative skew (left-skewed): The tail on the left side is longer, and most data points are concentrated on the right. The mean is less than the median.\n",
    "# Effect on data interpretation:\n",
    "\n",
    "               # Positive skew: May indicate outliers or extreme high values.\n",
    "               # Negative skew: May indicate outliers or extreme low values. Skewness affects measures like the mean, pulling it in the direction of the tail, \n",
    "               # making the median a better measure of central tendency in skewed distributions."
   ]
  },
  {
   "cell_type": "markdown",
   "id": "26066c79",
   "metadata": {},
   "source": [
    "## Question 7th:-What is the interquartile range (IQR), and how is it used to detect outliers?"
   ]
  },
  {
   "cell_type": "code",
   "execution_count": 10,
   "id": "8a7868ec",
   "metadata": {},
   "outputs": [],
   "source": [
    "# Interquartile Range:- The Interquartile Range (IQR) is a measure of statistical dispersion, \n",
    "  # calculated as the difference between the third quartile (Q3) and the first quartile (Q1):\n",
    "\n",
    "                   # IQR =𝑄3−𝑄1\n",
    "\n",
    "# It captures the spread of the middle 50% of a dataset.\n",
    "\n",
    "# How IQR is used to detect outliers:\n",
    "           # Outliers are values that fall significantly outside the typical range of the data. To detect them:\n",
    "\n",
    "                      # Lower bound: Q1−1.5×IQR\n",
    "                      # Upper bound: Q3+1.5×IQR\n",
    "# Any data points below the lower bound or above the upper bound are considered outliers.\n",
    "\n",
    "\n",
    "\n",
    "\n",
    "\n",
    "\n"
   ]
  },
  {
   "cell_type": "markdown",
   "id": "1ffcab87",
   "metadata": {},
   "source": [
    "## Question 8th:- Discuss the conditions under which the binomial distribution is used."
   ]
  },
  {
   "cell_type": "code",
   "execution_count": 11,
   "id": "7905541d",
   "metadata": {},
   "outputs": [],
   "source": [
    "# Binomial Distribution :- The binomial distribution is used to model the number of successes in a fixed number of independent trials, \n",
    "  # where each trial has only two possible outcomes (success or failure). The conditions for using the binomial distribution are:\n",
    "\n",
    "        # 1.Fixed number of trials (n): The experiment or process is repeated a certain number of times.\n",
    "        # 2.Two possible outcomes: Each trial results in either success or failure.\n",
    "        # 3.Constant probability (p): The probability of success remains the same for each trial.\n",
    "        # 4.Independence: The outcome of one trial does not affect the outcome of any other trial.\n",
    "\n",
    "        # Example: Flipping a coin 10 times (n = 10) with a probability of heads (success) being 0.5 (p = 0.5) follows a binomial distribution."
   ]
  },
  {
   "cell_type": "markdown",
   "id": "18384ad6",
   "metadata": {},
   "source": [
    "## Question 9th:- Explain the properties of the normal distribution and the empirical rule (68-95-99.7 rule)."
   ]
  },
  {
   "cell_type": "code",
   "execution_count": 12,
   "id": "762632d3",
   "metadata": {},
   "outputs": [],
   "source": [
    "# Properties of the Normal Distribution:\n",
    "      # 1.Symmetry: The normal distribution is symmetrical around the mean, meaning the left and right sides are mirror images.\n",
    "      # 2.Bell-shaped Curve: It has a bell-shaped curve, where most data points cluster around the mean, and probabilities taper off as you move away from the mean.\n",
    "      # 3.Defined by Mean and Standard Deviation: The shape and position are determined by the mean (µ) and standard deviation (σ).\n",
    "      # 4.Asymptotic: The tails approach the horizontal axis but never touch it, indicating that extreme values are possible but rare.\n",
    "\n",
    "# Empirical Rule (68-95-99.7 Rule):  This rule applies to normal distributions and states:\n",
    "\n",
    "      # 68% of the data falls within one standard deviation (µ ± 1σ) from the mean.\n",
    "      # 95% of the data falls within two standard deviations (µ ± 2σ).\n",
    "      # 99.7% of the data falls within three standard deviations (µ ± 3σ)."
   ]
  },
  {
   "cell_type": "markdown",
   "id": "21e18b49",
   "metadata": {},
   "source": [
    "## Question 10th:-. Provide a real-life example of a Poisson process and calculate the probability for a specific event."
   ]
  },
  {
   "cell_type": "code",
   "execution_count": 1,
   "id": "89ea841a",
   "metadata": {},
   "outputs": [
    {
     "data": {
      "text/plain": [
       "0.14037389581428056"
      ]
     },
     "execution_count": 1,
     "metadata": {},
     "output_type": "execute_result"
    }
   ],
   "source": [
    "# Possion Process :- A Poisson process is used to model events that happen randomly over a fixed interval of time or space, where the events are independent of each other. \n",
    " # A common real-life example is the number of phone calls received at a call center in a given hour.\n",
    "\n",
    "            # Example: Let's assume a call center receives an average of 5 calls per hour. The number of calls in an hour follows a Poisson distribution with a rate parameter \n",
    "                    # 𝜆 = 5\n",
    "# Now, let's calculate the probability that exactly 3 calls will be received in the next hour.\n",
    "\n",
    "# Poisson Probability Formula:\n",
    "  # The probability of observing k events (in this case, calls) in a fixed interval is given by the Poisson formula:\n",
    "\n",
    "\n",
    "         #  P(k; λ) = (e^(-λ) * λ^k) / k!\n",
    "\n",
    "# Where:\n",
    "\n",
    "# k is the number of events (in this case, 3 calls),\n",
    "# λ is the average number of events (5 calls per hour),\n",
    "# e is Euler's number (approximately 2.71828).\n",
    "# Let's compute the probability for \n",
    "    # 𝑘 = 3 calls. I can calculate this for you.\n",
    "    \n",
    "import math\n",
    "\n",
    "# Given values\n",
    "lambda_rate = 5 \n",
    "k = 3  \n",
    "poisson_prob = (math.exp(-lambda_rate) * lambda_rate**k) / math.factorial(k)\n",
    "poisson_prob\n"
   ]
  },
  {
   "cell_type": "markdown",
   "id": "c34eb6b3",
   "metadata": {},
   "source": [
    "## Question 11th:- Explain what a random variable is and differentiate between discrete and continuous random variables."
   ]
  },
  {
   "cell_type": "code",
   "execution_count": 3,
   "id": "acc68003",
   "metadata": {},
   "outputs": [
    {
     "name": "stdout",
     "output_type": "stream",
     "text": [
      "===================\n",
      "Discrete Random Variable (Die Roll): 1\n",
      "Continuous Random Variable (Height in meters): 1.79\n"
     ]
    }
   ],
   "source": [
    "# Random Variable:- A random variable is a variable that takes on numerical values based on the outcomes of a random process or experiment. \n",
    "# Essentially, it maps the outcomes of random events to numbers, allowing us to study and analyze randomness mathematically.\n",
    "\n",
    "   #  Types of Random Variables\n",
    "          \n",
    "        # 1.Discrete Random Variable: A discrete random variable takes on a countable number of distinct values. These values often come from outcomes of an experiment like rolling a die or counting the number of phone calls in an hour.\n",
    "          # Example: The number of heads in 10 coin flips (which could be 0, 1, 2, ..., 10).\n",
    "\n",
    "        # 2.Continuous Random Variable: A continuous random variable takes on an infinite number of possible values, often representing measurements. These values are uncountable and can take any value in a given range.\n",
    "          # Example: The time it takes for a train to arrive, which can be any real number (e.g., 5.32 minutes).\n",
    "\n",
    "# Key Difference:\n",
    "# Discrete variables have distinct, countable values.\n",
    "# Continuous variables can take on any value within a range and are uncountable.\n",
    "\n",
    "import numpy as np\n",
    "import random\n",
    "\n",
    "\n",
    "discrete_rv = random.randint(1, 6) \n",
    "continuous_rv = np.random.uniform(1.5, 2.0)\n",
    "\n",
    "(discrete_rv, continuous_rv)\n",
    "\n",
    "print(\"===================\")\n",
    "\n",
    "import numpy as np\n",
    "import random\n",
    "\n",
    "discrete_rv = random.randint(1, 6)\n",
    "continuous_rv = np.random.uniform(1.5, 2.0)\n",
    "\n",
    "print(f\"Discrete Random Variable (Die Roll): {discrete_rv}\")\n",
    "print(f\"Continuous Random Variable (Height in meters): {continuous_rv:.2f}\")\n"
   ]
  },
  {
   "cell_type": "markdown",
   "id": "dbbbfa6d",
   "metadata": {},
   "source": [
    "## Question 12th:-. Provide an example dataset, calculate both covariance and correlation, and interpret the results."
   ]
  },
  {
   "cell_type": "code",
   "execution_count": 5,
   "id": "b828a092",
   "metadata": {},
   "outputs": [
    {
     "name": "stdout",
     "output_type": "stream",
     "text": [
      "15.0\n",
      "=====================\n",
      "0.9933992677987827\n"
     ]
    }
   ],
   "source": [
    "# Let's create a simple example dataset with two variables, 𝑋 and \n",
    "  # Y. Then, we will calculate both the covariance and the Pearson correlation coefficient and interpret the results.\n",
    "    \n",
    "# Example Dataset:-We can use this small dataset with 5 observations:\n",
    "\n",
    "# X\t    Y\n",
    "# 2\t    3\n",
    "# 4\t    7\n",
    "# 6\t    9\n",
    "# 8\t    13\n",
    "# 10\t 15\n",
    "\n",
    "# 1. Covariance Calculation:-Covariance measures how much two variables vary together. A positive covariance indicates that the variables increase together, while a negative covariance means they move in opposite directions.\n",
    "\n",
    "     # The formula for covariance is:\n",
    "#                               n    _     _\n",
    "             # Cov(X,Y)= (1/n−1)∑(Xi−X)(Yi−Y)\n",
    "#                               i=1      \n",
    "\n",
    "\n",
    "# Where:\n",
    "\n",
    "  # Xi and Yi are the values of the variables 𝑋 and 𝑌\n",
    "#   _    _\n",
    "  #𝑌 and X are the means of X and 𝑌\n",
    "  \n",
    "  # n is the number of observations.\n",
    "    \n",
    "    \n",
    "# 2. Correlation Calculation:- The Pearson correlation coefficient standardizes covariance, giving a value between -1 and 1. The formula is:\n",
    "\n",
    "         # 𝑟 = Cov(𝑋,𝑌)/𝜎𝑋𝜎𝑌\n",
    "\n",
    " \n",
    "  # Where \n",
    "        # 𝜎𝑋 and 𝜎𝑌 are the standard deviations of X and 𝑌\n",
    "\n",
    "        \n",
    "import numpy as np\n",
    "import pandas as pd\n",
    "\n",
    "# Example dataset\n",
    "data = {'X': [2, 4, 6, 8, 10], 'Y': [3, 7, 9, 13, 15]}\n",
    "df = pd.DataFrame(data)\n",
    "\n",
    "\n",
    "cov_matrix = np.cov(df['X'], df['Y'])\n",
    "covariance = cov_matrix[0, 1]\n",
    "\n",
    "\n",
    "correlation = np.corrcoef(df['X'], df['Y'])[0, 1]\n",
    "\n",
    "print(covariance)\n",
    "\n",
    "print(\"=====================\")\n",
    "print(correlation)\n"
   ]
  },
  {
   "cell_type": "code",
   "execution_count": null,
   "id": "4cfc9599",
   "metadata": {},
   "outputs": [],
   "source": []
  }
 ],
 "metadata": {
  "kernelspec": {
   "display_name": "Python 3 (ipykernel)",
   "language": "python",
   "name": "python3"
  },
  "language_info": {
   "codemirror_mode": {
    "name": "ipython",
    "version": 3
   },
   "file_extension": ".py",
   "mimetype": "text/x-python",
   "name": "python",
   "nbconvert_exporter": "python",
   "pygments_lexer": "ipython3",
   "version": "3.12.6"
  }
 },
 "nbformat": 4,
 "nbformat_minor": 5
}
